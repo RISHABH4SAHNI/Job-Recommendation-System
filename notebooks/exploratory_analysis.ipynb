{
 "cells": [
  {
   "cell_type": "markdown",
   "metadata": {},
   "source": [
    "# Job Recommendation System - Exploratory Data Analysis\n",
    "\n",
    "This notebook provides exploratory analysis of the job and candidate data."
   ]
  },
  {
   "cell_type": "code",
   "execution_count": null,
   "metadata": {},
   "outputs": [],
   "source": [
    "import sys\n",
    "from pathlib import Path\n",
    "import pandas as pd\n",
    "import numpy as np\n",
    "import matplotlib.pyplot as plt\n",
    "import seaborn as sns\n",
    "import json\n",
    "\n",
    "# Add src directory to path\n",
    "sys.path.append(str(Path().absolute().parent / \"src\"))\n",
    "\n",
    "from data_processing import CSVProcessor\n",
    "from config.settings import RAW_DATA_DIR, PROCESSED_DATA_DIR\n",
    "\n",
    "# Set up plotting\n",
    "plt.style.use('seaborn-v0_8')\n",
    "sns.set_palette(\"husl\")\n",
    "\n",
    "%matplotlib inline"
   ]
  },
  {
   "cell_type": "markdown",
   "metadata": {},
   "source": [
    "## Load Data"
   ]
  },
  {
   "cell_type": "code",
   "execution_count": null,
   "metadata": {},
   "outputs": [],
   "source": [
    "# Initialize processor\n",
    "processor = CSVProcessor()\n",
    "\n",
    "# Load job data\n",
    "jobs_df = processor.load_job_details()\n",
    "print(f\"Loaded {len(jobs_df)} job records\")\n",
    "\n",
    "# Load candidate data\n",
    "candidates_df = processor.load_candidate_data()\n",
    "print(f\"Loaded {len(candidates_df)} candidate records\")"
   ]
  },
  {
   "cell_type": "markdown",
   "metadata": {},
   "source": [
    "## Job Data Analysis"
   ]
  },
  {
   "cell_type": "code",
   "execution_count": null,
   "metadata": {},
   "outputs": [],
   "source": [
    "# Basic info about jobs\n",
    "print(\"Job Data Info:\")\n",
    "print(jobs_df.info())\n",
    "print(\"\\nFirst few rows:\")\n",
    "jobs_df.head()"
   ]
  },
  {
   "cell_type": "code",
   "execution_count": null,
   "metadata": {},
   "outputs": [],
   "source": [
    "# Company distribution\n",
    "plt.figure(figsize=(12, 6))\n",
    "top_companies = jobs_df['company_name'].value_counts().head(15)\n",
    "plt.subplot(1, 2, 1)\n",
    "top_companies.plot(kind='bar')\n",
    "plt.title('Top 15 Companies by Job Postings')\n",
    "plt.xticks(rotation=45)\n",
    "\n",
    "# Job type distribution\n",
    "plt.subplot(1, 2, 2)\n",
    "jobs_df['job_type'].value_counts().plot(kind='pie', autopct='%1.1f%%')\n",
    "plt.title('Job Type Distribution')\n",
    "plt.tight_layout()\n",
    "plt.show()"
   ]
  },
  {
   "cell_type": "code",
   "execution_count": null,
   "metadata": {},
   "outputs": [],
   "source": [
    "# Location analysis\n",
    "plt.figure(figsize=(12, 6))\n",
    "location_counts = jobs_df['location'].value_counts().head(10)\n",
    "location_counts.plot(kind='bar')\n",
    "plt.title('Top 10 Job Locations')\n",
    "plt.xticks(rotation=45)\n",
    "plt.tight_layout()\n",
    "plt.show()"
   ]
  },
  {
   "cell_type": "markdown",
   "metadata": {},
   "source": [
    "## Candidate Data Analysis"
   ]
  },
  {
   "cell_type": "code",
   "execution_count": null,
   "metadata": {},
   "outputs": [],
   "source": [
    "# Basic info about candidates\n",
    "print(\"Candidate Data Info:\")\n",
    "print(candidates_df.info())\n",
    "print(\"\\nFirst few rows:\")\n",
    "candidates_df.head()"
   ]
  },
  {
   "cell_type": "code",
   "execution_count": null,
   "metadata": {},
   "outputs": [],
   "source": [
    "# CGPA distribution\n",
    "plt.figure(figsize=(10, 6))\n",
    "candidates_df['CGPA'] = pd.to_numeric(candidates_df['CGPA'], errors='coerce')\n",
    "candidates_df['CGPA'].dropna().hist(bins=20, alpha=0.7)\n",
    "plt.title('CGPA Distribution of Candidates')\n",
    "plt.xlabel('CGPA')\n",
    "plt.ylabel('Frequency')\n",
    "plt.show()"
   ]
  },
  {
   "cell_type": "code",
   "execution_count": null,
   "metadata": {},
   "outputs": [],
   "source": [
    "# Major distribution\n",
    "plt.figure(figsize=(10, 6))\n",
    "major_counts = candidates_df['Major'].value_counts()\n",
    "major_counts.plot(kind='bar')\n",
    "plt.title('Distribution of Candidate Majors')\n",
    "plt.xticks(rotation=45)\n",
    "plt.tight_layout()\n",
    "plt.show()"
   ]
  },
  {
   "cell_type": "markdown",
   "metadata": {},
   "source": [
    "## Summary Statistics"
   ]
  },
  {
   "cell_type": "code",
   "execution_count": null,
   "metadata": {},
   "outputs": [],
   "source": [
    "# Generate summary\n",
    "job_summary = processor.get_data_summary(jobs_df)\n",
    "candidate_summary = processor.get_data_summary(candidates_df)\n",
    "\n",
    "print(\"Job Data Summary:\")\n",
    "for key, value in job_summary.items():\n",
    "    if key not in ['columns', 'missing_values', 'data_types']:\n",
    "        print(f\"{key}: {value}\")\n",
    "\n",
    "print(\"\\nCandidate Data Summary:\")\n",
    "for key, value in candidate_summary.items():\n",
    "    if key not in ['columns', 'missing_values', 'data_types']:\n",
    "        print(f\"{key}: {value}\")"
   ]
  }
 ],
 "metadata": {
  "kernelspec": {
   "display_name": "Python 3",
   "language": "python",
   "name": "python3"
  },
  "language_info": {
   "codemirror_mode": {
    "name": "ipython",
    "version": 3
   },
   "file_extension": ".py",
   "mimetype": "text/x-python",
   "name": "python",
   "nbconvert_exporter": "python",
   "pygments_lexer": "ipython3",
   "version": "3.8.0"
  }
 },
 "nbformat": 4,
 "nbformat_minor": 4
}