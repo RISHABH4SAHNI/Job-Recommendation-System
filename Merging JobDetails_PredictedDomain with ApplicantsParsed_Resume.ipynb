{
 "cells": [
  {
   "cell_type": "code",
   "execution_count": 9,
   "id": "f19fff1d",
   "metadata": {},
   "outputs": [
    {
     "name": "stdout",
     "output_type": "stream",
     "text": [
      "Unique predicted domains in jobs_df: ['software development' 'data science' 'sales' 'product management'\n",
      " 'other' 'marketing' 'human resources' 'research' 'engineering']\n",
      "Unique parsed domains in candidates_exploded_df: ['data science' 'engineering' 'product management' 'operations']\n"
     ]
    }
   ],
   "source": [
    "import pandas as pd\n",
    "import json\n",
    "\n",
    "jobs_df = pd.read_csv(\"C:/Users/hsahn/Downloads/job_details_with_predictions.csv\")\n",
    "\n",
    "candidates_df = pd.read_csv(\"C:/Users/hsahn/OneDrive/Desktop/all_resumes_data.csv\")\n",
    "\n",
    "def parse_job_domains(json_str):\n",
    "    try:\n",
    "        json_data = json.loads(json_str)\n",
    "        if isinstance(json_data, list):\n",
    "            domains = [item.get('job_domain', 'Other') for item in json_data]\n",
    "            return domains\n",
    "    except (json.JSONDecodeError, TypeError):\n",
    "        return ['Other']\n",
    "\n",
    "candidates_df['parsed_domains'] = candidates_df['RecommendedJobDomains'].apply(parse_job_domains)\n",
    "\n",
    "candidates_exploded_df = candidates_df.explode('parsed_domains')\n",
    "\n",
    "jobs_df['predicted_domain'] = jobs_df['predicted_domain'].str.strip().str.lower()\n",
    "candidates_exploded_df['parsed_domains'] = candidates_exploded_df['parsed_domains'].str.strip().str.lower()\n",
    "\n",
    "print(\"Unique predicted domains in jobs_df:\", jobs_df['predicted_domain'].unique())\n",
    "print(\"Unique parsed domains in candidates_exploded_df:\", candidates_exploded_df['parsed_domains'].unique())\n",
    "\n",
    "matched_df = jobs_df.merge(candidates_exploded_df, how='inner', left_on='predicted_domain', right_on='parsed_domains')\n",
    "\n",
    "\n",
    "columns_to_keep = [\n",
    "    'company_name', 'role_title', 'role_description', 'predicted_domain',\n",
    "    'Name', 'Email', 'Experiences', 'parsed_domains'\n",
    "]\n",
    "matched_df = matched_df[columns_to_keep]\n",
    "\n",
    "matched_df.to_csv(\"C:/Users/hsahn/OneDrive/Desktop/matched_jobs_candidates.csv\", index=False)\n"
   ]
  },
  {
   "cell_type": "code",
   "execution_count": null,
   "id": "98dd6ae8",
   "metadata": {},
   "outputs": [],
   "source": []
  }
 ],
 "metadata": {
  "kernelspec": {
   "display_name": "Python 3 (ipykernel)",
   "language": "python",
   "name": "python3"
  },
  "language_info": {
   "codemirror_mode": {
    "name": "ipython",
    "version": 3
   },
   "file_extension": ".py",
   "mimetype": "text/x-python",
   "name": "python",
   "nbconvert_exporter": "python",
   "pygments_lexer": "ipython3",
   "version": "3.10.7"
  }
 },
 "nbformat": 4,
 "nbformat_minor": 5
}
