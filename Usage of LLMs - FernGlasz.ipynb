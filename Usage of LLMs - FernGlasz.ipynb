{
 "cells": [
  {
   "cell_type": "code",
   "execution_count": null,
   "id": "835ca44b",
   "metadata": {},
   "outputs": [],
   "source": [
    "import pandas as pd\n",
    "\n",
    "df = pd.read_csv(\"C:/Users/hsahn/Downloads/job_details.csv\")\n",
    "\n",
    "print(df.head())\n"
   ]
  },
  {
   "cell_type": "code",
   "execution_count": null,
   "id": "67c3b09b",
   "metadata": {},
   "outputs": [],
   "source": [
    "import re\n",
    "import nltk\n",
    "from nltk.corpus import stopwords\n",
    "from nltk.stem import WordNetLemmatizer\n",
    "\n",
    "nltk.download('stopwords')\n",
    "nltk.download('wordnet')\n",
    "\n",
    "lemmatizer = WordNetLemmatizer()\n",
    "stop_words = set(stopwords.words('english'))\n",
    "\n",
    "def preprocess_text(text):\n",
    "    text = text.lower()\n",
    "    text = re.sub(r'[^a-zA-Z0-9\\s]', '', text)\n",
    "    text = ' '.join([lemmatizer.lemmatize(word) for word in text.split() if word not in stop_words])\n",
    "    return text\n",
    "\n",
    "df['cleaned_description'] = df['description'].apply(preprocess_text)\n"
   ]
  },
  {
   "cell_type": "markdown",
   "id": "605ba862",
   "metadata": {},
   "source": [
    "# Keyword Extraction "
   ]
  },
  {
   "cell_type": "code",
   "execution_count": null,
   "id": "62dce810",
   "metadata": {},
   "outputs": [],
   "source": [
    "from sklearn.feature_extraction.text import TfidfVectorizer\n",
    "\n",
    "vectorizer = TfidfVectorizer(max_features=1000)\n",
    "tfidf_matrix = vectorizer.fit_transform(df['cleaned_description'])\n",
    "\n",
    "keywords = vectorizer.get_feature_names_out()\n",
    "\n",
    "tfidf_df = pd.DataFrame(tfidf_matrix.toarray(), columns=keywords)\n"
   ]
  },
  {
   "cell_type": "code",
   "execution_count": null,
   "id": "75905ea0",
   "metadata": {},
   "outputs": [],
   "source": [
    "import openai\n",
    "\n",
    "openai.api_key = 'sk-proj-jWeuuCo9RoDXiIqaMLElT3BlbkFJibCrTNO57ekYpJAQHovK'\n",
    "\n",
    "def extract_keywords_with_llm(text):\n",
    "    prompt = f\"Extract the main keywords from the following job description:\\n\\n{text}\\n\\nKeywords:\"\n",
    "    response = openai.Completion.create(engine=\"text-davinci-003\", prompt=prompt, max_tokens=50)\n",
    "    keywords = response.choices[0].text.strip()\n",
    "    return keywords\n",
    "\n",
    "df['llm_keywords'] = df['description'].apply(extract_keywords_with_llm)\n"
   ]
  },
  {
   "cell_type": "code",
   "execution_count": null,
   "id": "fcd46c5c",
   "metadata": {},
   "outputs": [],
   "source": [
    "!pip install openai\n"
   ]
  },
  {
   "cell_type": "code",
   "execution_count": null,
   "id": "2d59ded8",
   "metadata": {},
   "outputs": [],
   "source": [
    "import openai\n",
    "print(openai.__version__)\n"
   ]
  },
  {
   "cell_type": "code",
   "execution_count": null,
   "id": "11177cac",
   "metadata": {},
   "outputs": [],
   "source": [
    "!pip show openai\n"
   ]
  },
  {
   "cell_type": "code",
   "execution_count": null,
   "id": "4f65427a",
   "metadata": {},
   "outputs": [],
   "source": [
    "import sys\n",
    "print(sys.executable)\n"
   ]
  },
  {
   "cell_type": "code",
   "execution_count": null,
   "id": "5a03903b",
   "metadata": {},
   "outputs": [],
   "source": [
    "import openai\n",
    "print(openai.__version__)\n"
   ]
  },
  {
   "cell_type": "code",
   "execution_count": null,
   "id": "8ef073f7",
   "metadata": {},
   "outputs": [],
   "source": [
    "import openai\n",
    "\n",
    "openai.api_key = 'sk-proj-jd8lEgSk6gjsS7mZ2XyST3BlbkFJlZzawMKHi5bOzIqpTvma'\n",
    "\n",
    "def extract_keywords_with_llm(text):\n",
    "    prompt = f\"Extract the main keywords from the following job description:\\n\\n{text}\\n\\nKeywords:\"\n",
    "    response = openai.Completion.create(engine=\"gpt-3.5-turbo-instruct\", prompt=prompt, max_tokens=50)\n",
    "    keywords = response.choices[0].text.strip()\n",
    "    return keywords\n",
    "\n",
    "df['llm_keywords'] = df['description'].apply(extract_keywords_with_llm)"
   ]
  },
  {
   "cell_type": "code",
   "execution_count": null,
   "id": "328a0699",
   "metadata": {},
   "outputs": [],
   "source": [
    "pip install openai==0.28\n"
   ]
  },
  {
   "cell_type": "markdown",
   "id": "2677ea46",
   "metadata": {},
   "source": [
    "# Matching Algorithm"
   ]
  },
  {
   "cell_type": "code",
   "execution_count": null,
   "id": "e9f9e434",
   "metadata": {},
   "outputs": [],
   "source": [
    "from sklearn.feature_extraction.text import TfidfVectorizer\n",
    "from sklearn.metrics.pairwise import cosine_similarity\n",
    "import pandas as pd\n",
    "\n",
    "categories = [\n",
    "    'Data Science', \n",
    "    'Marketing', \n",
    "    'Sales', \n",
    "    'HR', \n",
    "    'Engineering', \n",
    "    'Operations', \n",
    "    'Clinical Research', \n",
    "    'Product Management', \n",
    "    'Other'\n",
    "]\n",
    "\n",
    "category_descriptions = [\n",
    "    \"Data Science involves data analysis, machine learning, statistics, and data visualization.\",\n",
    "    \"Marketing includes campaign management, content creation, and social media strategy.\",\n",
    "    \"Sales professionals focus on selling products or services to customers.\",\n",
    "    \"HR professionals manage human resources functions such as recruitment, training, and employee relations.\",\n",
    "    \"Engineering covers various fields including software, hardware, and systems engineering.\",\n",
    "    \"Operations management involves overseeing the production of goods and services.\",\n",
    "    \"Clinical Research involves conducting medical research studies to evaluate the safety and efficacy of treatments.\",\n",
    "    \"Product Management involves developing and managing products throughout their lifecycle.\",\n",
    "    \"Other encompasses roles that do not fit into the predefined categories.\",\n",
    "]\n",
    "\n",
    "role_descriptions = {\n",
    "    'Engineering': [\n",
    "        \"Web Development focuses on building and maintaining websites using technologies such as HTML, CSS, and JavaScript.\",\n",
    "        \"App Development involves creating mobile applications for different platforms like iOS and Android.\",\n",
    "        \"Frontend Developers specialize in creating user interfaces and experiences.\",\n",
    "        \"Backend Developers focus on server-side development and database management.\",\n",
    "        \"Machine Learning Engineers develop and deploy machine learning models for various applications.\",\n",
    "    ],\n",
    "    'Operations': [\n",
    "        \"Founders Office refers to roles within the executive team responsible for strategic decision-making and leadership.\",\n",
    "    ],\n",
    "    'Data Science': [\n",
    "        \"Data Analysts analyze data to extract insights and inform business decisions.\",\n",
    "        \"Data Scientists utilize advanced statistical techniques and machine learning algorithms to solve complex problems.\",\n",
    "    ],\n",
    "    'Sales': [\n",
    "        \"Sales professionals focus on identifying and acquiring new customers, as well as maintaining relationships with existing ones.\",\n",
    "    ],\n",
    "    'Marketing': [\n",
    "        \"Marketing Consultants provide expert advice on marketing strategies and campaigns.\",\n",
    "    ],\n",
    "    'HR': [\n",
    "        \"HR Consultants offer HR-related services such as recruitment, performance management, and organizational development.\",\n",
    "    ],\n",
    "    'Operations': [\n",
    "        \"Operations Managers oversee the day-to-day operations of a business, ensuring efficiency and effectiveness.\",\n",
    "    ],\n",
    "    'Clinical Research': [\n",
    "        \"Clinical Research Coordinators manage clinical trials and ensure compliance with regulatory requirements.\",\n",
    "    ],\n",
    "    'Product Management': [\n",
    "        \"Product Managers are responsible for the strategy, development, and launch of new products.\",\n",
    "    ],\n",
    "    'Other': [\n",
    "        \"Roles that do not fit into the predefined categories.\",\n",
    "    ],\n",
    "}\n",
    "\n",
    "for category in categories:\n",
    "    if category in role_descriptions:\n",
    "        category_descriptions += role_descriptions[category]\n",
    "\n",
    "vectorizer = TfidfVectorizer(stop_words='english')\n",
    "\n",
    "category_vectors = vectorizer.fit_transform(category_descriptions)\n",
    "\n",
    "\n",
    "def match_category(row):\n",
    "    tfidf_vector = vectorizer.transform([row['description']])\n",
    "    similarities = cosine_similarity(tfidf_vector, category_vectors)\n",
    "    best_match = categories[similarities.argmax()]\n",
    "    return best_match\n",
    "\n",
    "df['predicted_category'] = df.apply(match_category, axis=1)\n"
   ]
  },
  {
   "cell_type": "code",
   "execution_count": null,
   "id": "7374f1c7",
   "metadata": {},
   "outputs": [],
   "source": [
    "print(\"Length of categories:\", len(categories))\n",
    "print(\"Shape of category_vectors:\", category_vectors.shape)\n",
    "print(\"Length of category_descriptions:\", len(category_descriptions))\n"
   ]
  },
  {
   "cell_type": "markdown",
   "id": "31dfcb75",
   "metadata": {},
   "source": [
    "# LLMOps"
   ]
  },
  {
   "cell_type": "code",
   "execution_count": null,
   "id": "8a62884a",
   "metadata": {},
   "outputs": [],
   "source": [
    "from fastapi import FastAPI, HTTPException\n",
    "from pydantic import BaseModel\n",
    "\n",
    "app = FastAPI()\n",
    "\n",
    "class InputData(BaseModel):\n",
    "    description: str\n",
    "\n",
    "@app.post(\"/predict\")\n",
    "def predict(input_data: InputData):\n",
    "    try:\n",
    "        description = preprocess_text(input_data.description)\n",
    "        tfidf_vector = vectorizer.transform([description])\n",
    "        category = match_category(tfidf_vector)\n",
    "        return {\"predicted_category\": category}\n",
    "    except Exception as e:\n",
    "        raise HTTPException(status_code=500, detail=str(e))\n"
   ]
  },
  {
   "cell_type": "code",
   "execution_count": null,
   "id": "0c9911e4",
   "metadata": {},
   "outputs": [],
   "source": [
    "import logging\n",
    "\n",
    "logging.basicConfig(level=logging.INFO)\n",
    "\n",
    "@app.post(\"/predict\")\n",
    "def predict(input_data: InputData):\n",
    "    try:\n",
    "        logging.info(f\"Received input: {input_data.description}\")\n",
    "        description = preprocess_text(input_data.description)\n",
    "        tfidf_vector = vectorizer.transform([description])\n",
    "        category = match_category(tfidf_vector)\n",
    "        logging.info(f\"Predicted category: {category}\")\n",
    "        return {\"predicted_category\": category}\n",
    "    except Exception as e:\n",
    "        logging.error(f\"Error: {e}\")\n",
    "        raise HTTPException(status_code=500, detail=str(e))\n"
   ]
  },
  {
   "cell_type": "markdown",
   "id": "fc36379c",
   "metadata": {},
   "source": [
    "# Testing the API "
   ]
  },
  {
   "cell_type": "code",
   "execution_count": null,
   "id": "155b447c",
   "metadata": {},
   "outputs": [],
   "source": [
    "import requests\n",
    "\n",
    "url = \"http://127.0.0.1:8000/predict\"\n",
    "\n",
    "test_descriptions = [\n",
    "    \"We are hiring a data analyst with expertise in SQL and Excel to manage and analyze company datasets. The successful candidate will be responsible for extracting, transforming, and analyzing large volumes of data to provide actionable insights. They should have strong analytical skills and be proficient in SQL, Excel, and data visualization tools. Additionally, the candidate should have experience working with stakeholders to understand business requirements and translate them into analytical solutions. A background in statistics or mathematics is preferred.\",\n",
    "    \"Looking for a marketing coordinator to assist with campaign management, content creation, and social media strategy. The ideal candidate will have experience in developing and executing marketing campaigns across various channels, including social media, email, and digital advertising. They should be creative, detail-oriented, and have excellent communication skills. Responsibilities include coordinating with internal teams to develop marketing materials, analyzing campaign performance, and optimizing strategies based on data insights.\"\n",
    "]\n",
    "\n",
    "for description in test_descriptions:\n",
    "    response = requests.post(url, json={\"description\": description})\n",
    "    print(f\"Input: {description}\")\n",
    "    print(f\"Prediction: {response.json()['predicted_category']}\\n\")\n"
   ]
  }
 ],
 "metadata": {
  "kernelspec": {
   "display_name": "Python 3 (ipykernel)",
   "language": "python",
   "name": "python3"
  },
  "language_info": {
   "codemirror_mode": {
    "name": "ipython",
    "version": 3
   },
   "file_extension": ".py",
   "mimetype": "text/x-python",
   "name": "python",
   "nbconvert_exporter": "python",
   "pygments_lexer": "ipython3",
   "version": "3.10.7"
  }
 },
 "nbformat": 4,
 "nbformat_minor": 5
}
