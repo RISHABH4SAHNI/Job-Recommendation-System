{
 "cells": [
  {
   "cell_type": "code",
   "execution_count": 19,
   "id": "a681a576",
   "metadata": {},
   "outputs": [
    {
     "name": "stdout",
     "output_type": "stream",
     "text": [
      "{'predicted_domain': 'Software Development'}\n"
     ]
    }
   ],
   "source": [
    "import requests\n",
    "\n",
    "url = \"http://127.0.0.1:8000/predict\"\n",
    "\n",
    "input_data = {\n",
    "    \"description\": \"We are looking for a software developer with experience in Python and Django.\"\n",
    "}\n",
    "\n",
    "response = requests.post(url, json=input_data)\n",
    "\n",
    "print(response.json())\n"
   ]
  },
  {
   "cell_type": "code",
   "execution_count": null,
   "id": "65e4b3c8",
   "metadata": {},
   "outputs": [],
   "source": [
    "input_data = {\n",
    "    \"description\": \"Looking for a full stack developer with experience in React and Node.js to build scalable web applications.\"\n",
    "}\n"
   ]
  },
  {
   "cell_type": "code",
   "execution_count": 20,
   "id": "b17a63f3",
   "metadata": {},
   "outputs": [
    {
     "name": "stdout",
     "output_type": "stream",
     "text": [
      "{'predicted_domain': 'Software Development'}\n"
     ]
    }
   ],
   "source": [
    "import requests\n",
    "\n",
    "url = \"http://127.0.0.1:8000/predict\"\n",
    "\n",
    "input_data = {\n",
    "    \"description\": \"Looking for a full stack developer with experience in React and Node.js to build scalable web applications.\"\n",
    "}\n",
    "\n",
    "response = requests.post(url, json=input_data)\n",
    "\n",
    "print(response.json())\n"
   ]
  },
  {
   "cell_type": "code",
   "execution_count": 21,
   "id": "0c04bbbd",
   "metadata": {},
   "outputs": [
    {
     "name": "stdout",
     "output_type": "stream",
     "text": [
      "Input: We are hiring a data analyst with expertise in SQL and Excel to manage and analyze company datasets.\n",
      "Prediction: Other\n",
      "\n",
      "Input: Looking for a marketing coordinator to assist with campaign management, content creation, and social media strategy.\n",
      "Prediction: Data Science\n",
      "\n",
      "Input: Seeking a talent acquisition specialist to lead our recruitment efforts and improve our onboarding processes.\n",
      "Prediction: Other\n",
      "\n",
      "Input: Sales representative needed to identify new business opportunities and build relationships with potential clients.\n",
      "Prediction: Data Science\n",
      "\n",
      "Input: Operations analyst required to streamline our supply chain processes and improve operational efficiency.\n",
      "Prediction: Other\n",
      "\n",
      "Input: Hiring a clinical research coordinator to oversee clinical trials and ensure compliance with regulatory standards.\n",
      "Prediction: Other\n",
      "\n",
      "Input: Product manager needed to define product vision, prioritize features, and collaborate with engineering teams.\n",
      "Prediction: Data Science\n",
      "\n",
      "Input: Looking for an electrical engineer to design and develop new electrical systems for consumer electronics.\n",
      "Prediction: Other\n",
      "\n",
      "Input: We are searching for an HR generalist to handle employee relations, benefits administration, and performance management.\n",
      "Prediction: Other\n",
      "\n"
     ]
    }
   ],
   "source": [
    "import requests\n",
    "\n",
    "url = \"http://127.0.0.1:8000/predict\"\n",
    "\n",
    "test_descriptions = [\n",
    "    \"We are hiring a data analyst with expertise in SQL and Excel to manage and analyze company datasets.\",\n",
    "    \"Looking for a marketing coordinator to assist with campaign management, content creation, and social media strategy.\",\n",
    "    \"Seeking a talent acquisition specialist to lead our recruitment efforts and improve our onboarding processes.\",\n",
    "    \"Sales representative needed to identify new business opportunities and build relationships with potential clients.\",\n",
    "    \"Operations analyst required to streamline our supply chain processes and improve operational efficiency.\",\n",
    "    \"Hiring a clinical research coordinator to oversee clinical trials and ensure compliance with regulatory standards.\",\n",
    "    \"Product manager needed to define product vision, prioritize features, and collaborate with engineering teams.\",\n",
    "    \"Looking for an electrical engineer to design and develop new electrical systems for consumer electronics.\",\n",
    "    \"We are searching for an HR generalist to handle employee relations, benefits administration, and performance management.\"\n",
    "]\n",
    "\n",
    "for description in test_descriptions:\n",
    "    input_data = {\"description\": description}\n",
    "    response = requests.post(url, json=input_data)\n",
    "    print(f\"Input: {description}\")\n",
    "    print(f\"Prediction: {response.json()['predicted_domain']}\\n\")\n"
   ]
  },
  {
   "cell_type": "code",
   "execution_count": null,
   "id": "c7ce8fd1",
   "metadata": {},
   "outputs": [],
   "source": []
  }
 ],
 "metadata": {
  "kernelspec": {
   "display_name": "Python 3 (ipykernel)",
   "language": "python",
   "name": "python3"
  },
  "language_info": {
   "codemirror_mode": {
    "name": "ipython",
    "version": 3
   },
   "file_extension": ".py",
   "mimetype": "text/x-python",
   "name": "python",
   "nbconvert_exporter": "python",
   "pygments_lexer": "ipython3",
   "version": "3.10.7"
  }
 },
 "nbformat": 4,
 "nbformat_minor": 5
}
